{
 "cells": [
  {
   "cell_type": "markdown",
   "id": "708e978f-4925-4ffa-8f01-5d957381c400",
   "metadata": {},
   "source": [
    "## This notebook is to analyze data, process it and experiment with models"
   ]
  },
  {
   "cell_type": "code",
   "execution_count": 1,
   "id": "d8ed2750-4fb2-40e5-81d2-ccaab8ec6c12",
   "metadata": {},
   "outputs": [],
   "source": [
    "# Importing basic libraries\n",
    "%matplotlib inline\n",
    "import pandas as pd\n",
    "import numpy as np\n",
    "import matplotlib.pyplot as plt\n",
    "import seaborn as sns"
   ]
  },
  {
   "cell_type": "code",
   "execution_count": 2,
   "id": "9c9ecdb2",
   "metadata": {},
   "outputs": [],
   "source": [
    "import nltk\n",
    "nltk.data.path.append(r'D:\\Coding Grounds\\Codsoft intern projects\\Genre classifier\\notebooks\\nltk_data')"
   ]
  },
  {
   "cell_type": "markdown",
   "id": "93fd8bb3-7c94-4c3f-a642-6830025e4834",
   "metadata": {},
   "source": [
    "## 1. Getting data ready"
   ]
  },
  {
   "cell_type": "code",
   "execution_count": 3,
   "id": "c3bee3f3-4cba-4468-8990-ea7c68b568e3",
   "metadata": {},
   "outputs": [
    {
     "data": {
      "text/plain": [
       "['1 ::: Oscar et la dame rose (2009) ::: drama ::: Listening in to a conversation between his doctor and parents, 10-year-old Oscar learns what nobody has the courage to tell him. He only has a few weeks to live. Furious, he refuses to speak to anyone except straight-talking Rose, the lady in pink he meets on the hospital stairs. As Christmas approaches, Rose uses her fantastical experiences as a professional wrestler, her imagination, wit and charm to allow Oscar to live life and love to the full, in the company of his friends Pop Corn, Einstein, Bacon and childhood sweetheart Peggy Blue.\\n',\n",
       " '2 ::: Cupid (1997) ::: thriller ::: A brother and sister with a past incestuous relationship have a current murderous relationship. He murders the women who reject him and she murders the women who get too close to him.\\n',\n",
       " '3 ::: Young, Wild and Wonderful (1980) ::: adult ::: As the bus empties the students for their field trip to the Museum of Natural History, little does the tour guide suspect that the students are there for more than just another tour. First, during the lecture films, the coeds drift into dreams of the most erotic fantasies one can imagine. After the films, they release the emotion of the fantasies in the most erotic and uncommon ways. One slips off to the curator\\'s office for a little \"acquisition. \" Another finds the anthropologist to see what bones can be identified. Even the head teacher isn\\'t immune. Soon the tour is over, but as the bus departs, everyone admits it was quite an education.\\n',\n",
       " \"4 ::: The Secret Sin (1915) ::: drama ::: To help their unemployed father make ends meet, Edith and her twin sister Grace work as seamstresses . An invalid, Grace falls prey to the temptations of Chinatown opium and becomes an addict, a condition worsened by a misguided physician who prescribes morphine to ease her pain. When their father strikes oil, the family enjoys a new prosperity and the sisters meet the eligible Jack Herron, a fellow oil prospector. To Grace's shock, Jack falls in love with Edith and in her jealousy, Grace tells Jack that Edith, not she, has a drug problem. Hinting that her sister will soon need more morphine, Grace arranges for a dinner in Chinatown with the couple. While her sister and Jack dance, Grace slips away to an opium den. Edith follows her, but ends up in the wrong den and is arrested in an ensuing drug raid. After he bails her out of jail, Edith takes an angry Jack to search for Grace and stumbles across her half-conscious body lying in the street. The truth about the sisters is revealed, and after sending Grace to a sanitarium in the country, Jack and Edith are married.\\n\",\n",
       " \"5 ::: The Unrecovered (2007) ::: drama ::: The film's title refers not only to the un-recovered bodies at ground zero, but also to the state of the nation at large. Set in the hallucinatory period of time between September 11 and Halloween of 2001, The Unrecovered examines the effect of terror on the average mind, the way a state of heightened anxiety and/or alertness can cause the average person to make the sort of imaginative connections that are normally made only by artists and conspiracy theorists-both of whom figure prominently in this film. The Unrecovered explores the way in which irony, empathy, and paranoia relate to one another in the wake of 9/11.\\n\"]"
      ]
     },
     "execution_count": 3,
     "metadata": {},
     "output_type": "execute_result"
    }
   ],
   "source": [
    "with open('../data/train_data.txt', 'r', encoding='utf-8') as file:\n",
    "    lines = file.readlines()\n",
    "lines[:5]"
   ]
  },
  {
   "cell_type": "markdown",
   "id": "fe09ebf6-0f80-4bc8-ae31-40549ed4937e",
   "metadata": {},
   "source": [
    "#### The data is written in a pattern, id->title->year->genre->plot"
   ]
  },
  {
   "cell_type": "code",
   "execution_count": 4,
   "id": "78667078-baa7-467c-9928-8613391eeecb",
   "metadata": {},
   "outputs": [
    {
     "data": {
      "text/html": [
       "<div>\n",
       "<style scoped>\n",
       "    .dataframe tbody tr th:only-of-type {\n",
       "        vertical-align: middle;\n",
       "    }\n",
       "\n",
       "    .dataframe tbody tr th {\n",
       "        vertical-align: top;\n",
       "    }\n",
       "\n",
       "    .dataframe thead th {\n",
       "        text-align: right;\n",
       "    }\n",
       "</style>\n",
       "<table border=\"1\" class=\"dataframe\">\n",
       "  <thead>\n",
       "    <tr style=\"text-align: right;\">\n",
       "      <th></th>\n",
       "      <th>ID</th>\n",
       "      <th>Title</th>\n",
       "      <th>Genre</th>\n",
       "      <th>Plot</th>\n",
       "    </tr>\n",
       "  </thead>\n",
       "  <tbody>\n",
       "    <tr>\n",
       "      <th>0</th>\n",
       "      <td>1</td>\n",
       "      <td>Oscar et la dame rose (2009)</td>\n",
       "      <td>drama</td>\n",
       "      <td>Listening in to a conversation between his doc...</td>\n",
       "    </tr>\n",
       "    <tr>\n",
       "      <th>1</th>\n",
       "      <td>2</td>\n",
       "      <td>Cupid (1997)</td>\n",
       "      <td>thriller</td>\n",
       "      <td>A brother and sister with a past incestuous re...</td>\n",
       "    </tr>\n",
       "    <tr>\n",
       "      <th>2</th>\n",
       "      <td>3</td>\n",
       "      <td>Young, Wild and Wonderful (1980)</td>\n",
       "      <td>adult</td>\n",
       "      <td>As the bus empties the students for their fiel...</td>\n",
       "    </tr>\n",
       "    <tr>\n",
       "      <th>3</th>\n",
       "      <td>4</td>\n",
       "      <td>The Secret Sin (1915)</td>\n",
       "      <td>drama</td>\n",
       "      <td>To help their unemployed father make ends meet...</td>\n",
       "    </tr>\n",
       "    <tr>\n",
       "      <th>4</th>\n",
       "      <td>5</td>\n",
       "      <td>The Unrecovered (2007)</td>\n",
       "      <td>drama</td>\n",
       "      <td>The film's title refers not only to the un-rec...</td>\n",
       "    </tr>\n",
       "  </tbody>\n",
       "</table>\n",
       "</div>"
      ],
      "text/plain": [
       "  ID                             Title     Genre  \\\n",
       "0  1      Oscar et la dame rose (2009)     drama   \n",
       "1  2                      Cupid (1997)  thriller   \n",
       "2  3  Young, Wild and Wonderful (1980)     adult   \n",
       "3  4             The Secret Sin (1915)     drama   \n",
       "4  5            The Unrecovered (2007)     drama   \n",
       "\n",
       "                                                Plot  \n",
       "0  Listening in to a conversation between his doc...  \n",
       "1  A brother and sister with a past incestuous re...  \n",
       "2  As the bus empties the students for their fiel...  \n",
       "3  To help their unemployed father make ends meet...  \n",
       "4  The film's title refers not only to the un-rec...  "
      ]
     },
     "execution_count": 4,
     "metadata": {},
     "output_type": "execute_result"
    }
   ],
   "source": [
    "data = []\n",
    "for i in lines:\n",
    "    string = i.strip().split(\" ::: \")\n",
    "    ID, Title, Genre, Plot = string\n",
    "    data.append([ID, Title, Genre, Plot])\n",
    "\n",
    "df_train = pd.DataFrame(data, columns = ['ID','Title','Genre','Plot'])\n",
    "df_train.head()"
   ]
  },
  {
   "cell_type": "code",
   "execution_count": 5,
   "id": "94eeedaf-6726-4c65-ac56-d5456effbfd0",
   "metadata": {},
   "outputs": [
    {
     "data": {
      "text/html": [
       "<div>\n",
       "<style scoped>\n",
       "    .dataframe tbody tr th:only-of-type {\n",
       "        vertical-align: middle;\n",
       "    }\n",
       "\n",
       "    .dataframe tbody tr th {\n",
       "        vertical-align: top;\n",
       "    }\n",
       "\n",
       "    .dataframe thead th {\n",
       "        text-align: right;\n",
       "    }\n",
       "</style>\n",
       "<table border=\"1\" class=\"dataframe\">\n",
       "  <thead>\n",
       "    <tr style=\"text-align: right;\">\n",
       "      <th></th>\n",
       "      <th>ID</th>\n",
       "      <th>Title</th>\n",
       "      <th>Genre</th>\n",
       "      <th>Plot</th>\n",
       "      <th>Year</th>\n",
       "    </tr>\n",
       "  </thead>\n",
       "  <tbody>\n",
       "    <tr>\n",
       "      <th>0</th>\n",
       "      <td>1</td>\n",
       "      <td>Oscar et la dame rose</td>\n",
       "      <td>drama</td>\n",
       "      <td>Listening in to a conversation between his doc...</td>\n",
       "      <td>2009</td>\n",
       "    </tr>\n",
       "    <tr>\n",
       "      <th>1</th>\n",
       "      <td>2</td>\n",
       "      <td>Cupid</td>\n",
       "      <td>thriller</td>\n",
       "      <td>A brother and sister with a past incestuous re...</td>\n",
       "      <td>1997</td>\n",
       "    </tr>\n",
       "    <tr>\n",
       "      <th>2</th>\n",
       "      <td>3</td>\n",
       "      <td>Young, Wild and Wonderful</td>\n",
       "      <td>adult</td>\n",
       "      <td>As the bus empties the students for their fiel...</td>\n",
       "      <td>1980</td>\n",
       "    </tr>\n",
       "    <tr>\n",
       "      <th>3</th>\n",
       "      <td>4</td>\n",
       "      <td>The Secret Sin</td>\n",
       "      <td>drama</td>\n",
       "      <td>To help their unemployed father make ends meet...</td>\n",
       "      <td>1915</td>\n",
       "    </tr>\n",
       "    <tr>\n",
       "      <th>4</th>\n",
       "      <td>5</td>\n",
       "      <td>The Unrecovered</td>\n",
       "      <td>drama</td>\n",
       "      <td>The film's title refers not only to the un-rec...</td>\n",
       "      <td>2007</td>\n",
       "    </tr>\n",
       "  </tbody>\n",
       "</table>\n",
       "</div>"
      ],
      "text/plain": [
       "  ID                      Title     Genre  \\\n",
       "0  1      Oscar et la dame rose     drama   \n",
       "1  2                      Cupid  thriller   \n",
       "2  3  Young, Wild and Wonderful     adult   \n",
       "3  4             The Secret Sin     drama   \n",
       "4  5            The Unrecovered     drama   \n",
       "\n",
       "                                                Plot  Year  \n",
       "0  Listening in to a conversation between his doc...  2009  \n",
       "1  A brother and sister with a past incestuous re...  1997  \n",
       "2  As the bus empties the students for their fiel...  1980  \n",
       "3  To help their unemployed father make ends meet...  1915  \n",
       "4  The film's title refers not only to the un-rec...  2007  "
      ]
     },
     "execution_count": 5,
     "metadata": {},
     "output_type": "execute_result"
    }
   ],
   "source": [
    "df_train['Year'] = df_train['Title'].str.extract(r\"\\((\\d{4})\\)\") # Extracting year from title\n",
    "df_train['Title'] = df_train['Title'].str.replace(r\"\\s*\\(\\d{4}\\)\", \"\", regex=True) # Replacing year with blank\n",
    "df_train.head()"
   ]
  },
  {
   "cell_type": "code",
   "execution_count": 6,
   "id": "5b6885cc-6ead-4d60-a599-9feb875887f7",
   "metadata": {},
   "outputs": [
    {
     "data": {
      "text/html": [
       "<div>\n",
       "<style scoped>\n",
       "    .dataframe tbody tr th:only-of-type {\n",
       "        vertical-align: middle;\n",
       "    }\n",
       "\n",
       "    .dataframe tbody tr th {\n",
       "        vertical-align: top;\n",
       "    }\n",
       "\n",
       "    .dataframe thead th {\n",
       "        text-align: right;\n",
       "    }\n",
       "</style>\n",
       "<table border=\"1\" class=\"dataframe\">\n",
       "  <thead>\n",
       "    <tr style=\"text-align: right;\">\n",
       "      <th></th>\n",
       "      <th>ID</th>\n",
       "      <th>Title</th>\n",
       "      <th>Year</th>\n",
       "      <th>Genre</th>\n",
       "      <th>Plot</th>\n",
       "    </tr>\n",
       "  </thead>\n",
       "  <tbody>\n",
       "    <tr>\n",
       "      <th>0</th>\n",
       "      <td>1</td>\n",
       "      <td>Oscar et la dame rose</td>\n",
       "      <td>2009</td>\n",
       "      <td>drama</td>\n",
       "      <td>Listening in to a conversation between his doc...</td>\n",
       "    </tr>\n",
       "    <tr>\n",
       "      <th>1</th>\n",
       "      <td>2</td>\n",
       "      <td>Cupid</td>\n",
       "      <td>1997</td>\n",
       "      <td>thriller</td>\n",
       "      <td>A brother and sister with a past incestuous re...</td>\n",
       "    </tr>\n",
       "    <tr>\n",
       "      <th>2</th>\n",
       "      <td>3</td>\n",
       "      <td>Young, Wild and Wonderful</td>\n",
       "      <td>1980</td>\n",
       "      <td>adult</td>\n",
       "      <td>As the bus empties the students for their fiel...</td>\n",
       "    </tr>\n",
       "    <tr>\n",
       "      <th>3</th>\n",
       "      <td>4</td>\n",
       "      <td>The Secret Sin</td>\n",
       "      <td>1915</td>\n",
       "      <td>drama</td>\n",
       "      <td>To help their unemployed father make ends meet...</td>\n",
       "    </tr>\n",
       "    <tr>\n",
       "      <th>4</th>\n",
       "      <td>5</td>\n",
       "      <td>The Unrecovered</td>\n",
       "      <td>2007</td>\n",
       "      <td>drama</td>\n",
       "      <td>The film's title refers not only to the un-rec...</td>\n",
       "    </tr>\n",
       "  </tbody>\n",
       "</table>\n",
       "</div>"
      ],
      "text/plain": [
       "  ID                      Title  Year     Genre  \\\n",
       "0  1      Oscar et la dame rose  2009     drama   \n",
       "1  2                      Cupid  1997  thriller   \n",
       "2  3  Young, Wild and Wonderful  1980     adult   \n",
       "3  4             The Secret Sin  1915     drama   \n",
       "4  5            The Unrecovered  2007     drama   \n",
       "\n",
       "                                                Plot  \n",
       "0  Listening in to a conversation between his doc...  \n",
       "1  A brother and sister with a past incestuous re...  \n",
       "2  As the bus empties the students for their fiel...  \n",
       "3  To help their unemployed father make ends meet...  \n",
       "4  The film's title refers not only to the un-rec...  "
      ]
     },
     "execution_count": 6,
     "metadata": {},
     "output_type": "execute_result"
    }
   ],
   "source": [
    "df_train = df_train[['ID', 'Title', 'Year', 'Genre', 'Plot']]\n",
    "df_train.head()"
   ]
  },
  {
   "cell_type": "markdown",
   "id": "d4223fe8-6104-4c7a-b963-4ccc62835047",
   "metadata": {},
   "source": [
    "#### Similarly for other datasets"
   ]
  },
  {
   "cell_type": "code",
   "execution_count": 7,
   "id": "f1059f93-e6c7-43a8-807b-99abd4cab7aa",
   "metadata": {},
   "outputs": [
    {
     "data": {
      "text/html": [
       "<div>\n",
       "<style scoped>\n",
       "    .dataframe tbody tr th:only-of-type {\n",
       "        vertical-align: middle;\n",
       "    }\n",
       "\n",
       "    .dataframe tbody tr th {\n",
       "        vertical-align: top;\n",
       "    }\n",
       "\n",
       "    .dataframe thead th {\n",
       "        text-align: right;\n",
       "    }\n",
       "</style>\n",
       "<table border=\"1\" class=\"dataframe\">\n",
       "  <thead>\n",
       "    <tr style=\"text-align: right;\">\n",
       "      <th></th>\n",
       "      <th>ID</th>\n",
       "      <th>Title</th>\n",
       "      <th>Year</th>\n",
       "      <th>Plot</th>\n",
       "    </tr>\n",
       "  </thead>\n",
       "  <tbody>\n",
       "    <tr>\n",
       "      <th>0</th>\n",
       "      <td>1</td>\n",
       "      <td>Edgar's Lunch</td>\n",
       "      <td>1998</td>\n",
       "      <td>L.R. Brane loves his life - his car, his apart...</td>\n",
       "    </tr>\n",
       "    <tr>\n",
       "      <th>1</th>\n",
       "      <td>2</td>\n",
       "      <td>La guerra de papá</td>\n",
       "      <td>1977</td>\n",
       "      <td>Spain, March 1964: Quico is a very naughty chi...</td>\n",
       "    </tr>\n",
       "    <tr>\n",
       "      <th>2</th>\n",
       "      <td>3</td>\n",
       "      <td>Off the Beaten Track</td>\n",
       "      <td>2010</td>\n",
       "      <td>One year in the life of Albin and his family o...</td>\n",
       "    </tr>\n",
       "    <tr>\n",
       "      <th>3</th>\n",
       "      <td>4</td>\n",
       "      <td>Meu Amigo Hindu</td>\n",
       "      <td>2015</td>\n",
       "      <td>His father has died, he hasn't spoken with his...</td>\n",
       "    </tr>\n",
       "    <tr>\n",
       "      <th>4</th>\n",
       "      <td>5</td>\n",
       "      <td>Er nu zhai</td>\n",
       "      <td>1955</td>\n",
       "      <td>Before he was known internationally as a marti...</td>\n",
       "    </tr>\n",
       "  </tbody>\n",
       "</table>\n",
       "</div>"
      ],
      "text/plain": [
       "  ID                 Title  Year  \\\n",
       "0  1         Edgar's Lunch  1998   \n",
       "1  2     La guerra de papá  1977   \n",
       "2  3  Off the Beaten Track  2010   \n",
       "3  4       Meu Amigo Hindu  2015   \n",
       "4  5            Er nu zhai  1955   \n",
       "\n",
       "                                                Plot  \n",
       "0  L.R. Brane loves his life - his car, his apart...  \n",
       "1  Spain, March 1964: Quico is a very naughty chi...  \n",
       "2  One year in the life of Albin and his family o...  \n",
       "3  His father has died, he hasn't spoken with his...  \n",
       "4  Before he was known internationally as a marti...  "
      ]
     },
     "execution_count": 7,
     "metadata": {},
     "output_type": "execute_result"
    }
   ],
   "source": [
    "with open('../data/test_data.txt', 'r', encoding = 'utf-8') as file:\n",
    "    lines = file.readlines()\n",
    "\n",
    "# Splitting the text\n",
    "data = []\n",
    "for i in lines:\n",
    "    string = i.strip().split(' ::: ')\n",
    "    ID, Title, Plot = string\n",
    "    data.append([ID, Title, Plot])\n",
    "\n",
    "# Creating dataframe\n",
    "df_test = pd.DataFrame(data, columns = ['ID','Title','Plot'])\n",
    "\n",
    "# Seperating year\n",
    "df_test['Year'] = df_test['Title'].str.extract(r\"\\((\\d{4})\\)\") \n",
    "df_test['Title'] = df_test['Title'].str.replace(r\"\\s*\\(\\d{4}\\)\", \"\", regex=True)\n",
    "\n",
    "# Column order\n",
    "df_test = df_test[['ID', 'Title', 'Year', 'Plot']]\n",
    "df_test.head()"
   ]
  },
  {
   "cell_type": "code",
   "execution_count": 8,
   "id": "7640bb90-9d07-4ff5-9b6f-ad2c24253be7",
   "metadata": {},
   "outputs": [
    {
     "data": {
      "text/html": [
       "<div>\n",
       "<style scoped>\n",
       "    .dataframe tbody tr th:only-of-type {\n",
       "        vertical-align: middle;\n",
       "    }\n",
       "\n",
       "    .dataframe tbody tr th {\n",
       "        vertical-align: top;\n",
       "    }\n",
       "\n",
       "    .dataframe thead th {\n",
       "        text-align: right;\n",
       "    }\n",
       "</style>\n",
       "<table border=\"1\" class=\"dataframe\">\n",
       "  <thead>\n",
       "    <tr style=\"text-align: right;\">\n",
       "      <th></th>\n",
       "      <th>ID</th>\n",
       "      <th>Title</th>\n",
       "      <th>Year</th>\n",
       "      <th>Genre</th>\n",
       "      <th>Plot</th>\n",
       "    </tr>\n",
       "  </thead>\n",
       "  <tbody>\n",
       "    <tr>\n",
       "      <th>0</th>\n",
       "      <td>1</td>\n",
       "      <td>Edgar's Lunch</td>\n",
       "      <td>1998</td>\n",
       "      <td>thriller</td>\n",
       "      <td>L.R. Brane loves his life - his car, his apart...</td>\n",
       "    </tr>\n",
       "    <tr>\n",
       "      <th>1</th>\n",
       "      <td>2</td>\n",
       "      <td>La guerra de papá</td>\n",
       "      <td>1977</td>\n",
       "      <td>comedy</td>\n",
       "      <td>Spain, March 1964: Quico is a very naughty chi...</td>\n",
       "    </tr>\n",
       "    <tr>\n",
       "      <th>2</th>\n",
       "      <td>3</td>\n",
       "      <td>Off the Beaten Track</td>\n",
       "      <td>2010</td>\n",
       "      <td>documentary</td>\n",
       "      <td>One year in the life of Albin and his family o...</td>\n",
       "    </tr>\n",
       "    <tr>\n",
       "      <th>3</th>\n",
       "      <td>4</td>\n",
       "      <td>Meu Amigo Hindu</td>\n",
       "      <td>2015</td>\n",
       "      <td>drama</td>\n",
       "      <td>His father has died, he hasn't spoken with his...</td>\n",
       "    </tr>\n",
       "    <tr>\n",
       "      <th>4</th>\n",
       "      <td>5</td>\n",
       "      <td>Er nu zhai</td>\n",
       "      <td>1955</td>\n",
       "      <td>drama</td>\n",
       "      <td>Before he was known internationally as a marti...</td>\n",
       "    </tr>\n",
       "  </tbody>\n",
       "</table>\n",
       "</div>"
      ],
      "text/plain": [
       "  ID                 Title  Year        Genre  \\\n",
       "0  1         Edgar's Lunch  1998     thriller   \n",
       "1  2     La guerra de papá  1977       comedy   \n",
       "2  3  Off the Beaten Track  2010  documentary   \n",
       "3  4       Meu Amigo Hindu  2015        drama   \n",
       "4  5            Er nu zhai  1955        drama   \n",
       "\n",
       "                                                Plot  \n",
       "0  L.R. Brane loves his life - his car, his apart...  \n",
       "1  Spain, March 1964: Quico is a very naughty chi...  \n",
       "2  One year in the life of Albin and his family o...  \n",
       "3  His father has died, he hasn't spoken with his...  \n",
       "4  Before he was known internationally as a marti...  "
      ]
     },
     "execution_count": 8,
     "metadata": {},
     "output_type": "execute_result"
    }
   ],
   "source": [
    "with open('../data/test_data_solution.txt', 'r', encoding = 'utf-8') as file:\n",
    "    lines = file.readlines()\n",
    "\n",
    "# Splitting the text\n",
    "data = []\n",
    "for i in lines:\n",
    "    string = i.strip().split(' ::: ')\n",
    "    ID, Title, Genre, Plot = string\n",
    "    data.append([ID, Title, Genre, Plot])\n",
    "\n",
    "# Creating dataframe\n",
    "df_test_solution = pd.DataFrame(data, columns = ['ID','Title', 'Genre', 'Plot'])\n",
    "\n",
    "# Seperating year\n",
    "df_test_solution['Year'] = df_test_solution['Title'].str.extract(r\"\\((\\d{4})\\)\") \n",
    "df_test_solution['Title'] = df_test_solution['Title'].str.replace(r\"\\s*\\(\\d{4}\\)\", \"\", regex=True)\n",
    "\n",
    "# Column order\n",
    "df_test_solution = df_test_solution[['ID', 'Title', 'Year', 'Genre', 'Plot']]\n",
    "df_test_solution.head()"
   ]
  },
  {
   "cell_type": "markdown",
   "id": "74a4ec80-749a-48ec-9044-6f9dec9157c9",
   "metadata": {},
   "source": [
    "#### All prepared datasets"
   ]
  },
  {
   "cell_type": "code",
   "execution_count": 9,
   "id": "df470eaf",
   "metadata": {},
   "outputs": [
    {
     "data": {
      "text/html": [
       "<div>\n",
       "<style scoped>\n",
       "    .dataframe tbody tr th:only-of-type {\n",
       "        vertical-align: middle;\n",
       "    }\n",
       "\n",
       "    .dataframe tbody tr th {\n",
       "        vertical-align: top;\n",
       "    }\n",
       "\n",
       "    .dataframe thead th {\n",
       "        text-align: right;\n",
       "    }\n",
       "</style>\n",
       "<table border=\"1\" class=\"dataframe\">\n",
       "  <thead>\n",
       "    <tr style=\"text-align: right;\">\n",
       "      <th></th>\n",
       "      <th>ID</th>\n",
       "      <th>Title</th>\n",
       "      <th>Year</th>\n",
       "      <th>Genre</th>\n",
       "      <th>Plot</th>\n",
       "    </tr>\n",
       "  </thead>\n",
       "  <tbody>\n",
       "    <tr>\n",
       "      <th>0</th>\n",
       "      <td>1</td>\n",
       "      <td>Oscar et la dame rose</td>\n",
       "      <td>2009</td>\n",
       "      <td>drama</td>\n",
       "      <td>Listening in to a conversation between his doc...</td>\n",
       "    </tr>\n",
       "    <tr>\n",
       "      <th>1</th>\n",
       "      <td>2</td>\n",
       "      <td>Cupid</td>\n",
       "      <td>1997</td>\n",
       "      <td>thriller</td>\n",
       "      <td>A brother and sister with a past incestuous re...</td>\n",
       "    </tr>\n",
       "    <tr>\n",
       "      <th>2</th>\n",
       "      <td>3</td>\n",
       "      <td>Young, Wild and Wonderful</td>\n",
       "      <td>1980</td>\n",
       "      <td>adult</td>\n",
       "      <td>As the bus empties the students for their fiel...</td>\n",
       "    </tr>\n",
       "    <tr>\n",
       "      <th>3</th>\n",
       "      <td>4</td>\n",
       "      <td>The Secret Sin</td>\n",
       "      <td>1915</td>\n",
       "      <td>drama</td>\n",
       "      <td>To help their unemployed father make ends meet...</td>\n",
       "    </tr>\n",
       "    <tr>\n",
       "      <th>4</th>\n",
       "      <td>5</td>\n",
       "      <td>The Unrecovered</td>\n",
       "      <td>2007</td>\n",
       "      <td>drama</td>\n",
       "      <td>The film's title refers not only to the un-rec...</td>\n",
       "    </tr>\n",
       "  </tbody>\n",
       "</table>\n",
       "</div>"
      ],
      "text/plain": [
       "  ID                      Title  Year     Genre  \\\n",
       "0  1      Oscar et la dame rose  2009     drama   \n",
       "1  2                      Cupid  1997  thriller   \n",
       "2  3  Young, Wild and Wonderful  1980     adult   \n",
       "3  4             The Secret Sin  1915     drama   \n",
       "4  5            The Unrecovered  2007     drama   \n",
       "\n",
       "                                                Plot  \n",
       "0  Listening in to a conversation between his doc...  \n",
       "1  A brother and sister with a past incestuous re...  \n",
       "2  As the bus empties the students for their fiel...  \n",
       "3  To help their unemployed father make ends meet...  \n",
       "4  The film's title refers not only to the un-rec...  "
      ]
     },
     "execution_count": 9,
     "metadata": {},
     "output_type": "execute_result"
    }
   ],
   "source": [
    "df_train.head()"
   ]
  },
  {
   "cell_type": "code",
   "execution_count": 10,
   "id": "2d0aae77",
   "metadata": {},
   "outputs": [
    {
     "data": {
      "text/html": [
       "<div>\n",
       "<style scoped>\n",
       "    .dataframe tbody tr th:only-of-type {\n",
       "        vertical-align: middle;\n",
       "    }\n",
       "\n",
       "    .dataframe tbody tr th {\n",
       "        vertical-align: top;\n",
       "    }\n",
       "\n",
       "    .dataframe thead th {\n",
       "        text-align: right;\n",
       "    }\n",
       "</style>\n",
       "<table border=\"1\" class=\"dataframe\">\n",
       "  <thead>\n",
       "    <tr style=\"text-align: right;\">\n",
       "      <th></th>\n",
       "      <th>ID</th>\n",
       "      <th>Title</th>\n",
       "      <th>Year</th>\n",
       "      <th>Plot</th>\n",
       "    </tr>\n",
       "  </thead>\n",
       "  <tbody>\n",
       "    <tr>\n",
       "      <th>0</th>\n",
       "      <td>1</td>\n",
       "      <td>Edgar's Lunch</td>\n",
       "      <td>1998</td>\n",
       "      <td>L.R. Brane loves his life - his car, his apart...</td>\n",
       "    </tr>\n",
       "    <tr>\n",
       "      <th>1</th>\n",
       "      <td>2</td>\n",
       "      <td>La guerra de papá</td>\n",
       "      <td>1977</td>\n",
       "      <td>Spain, March 1964: Quico is a very naughty chi...</td>\n",
       "    </tr>\n",
       "    <tr>\n",
       "      <th>2</th>\n",
       "      <td>3</td>\n",
       "      <td>Off the Beaten Track</td>\n",
       "      <td>2010</td>\n",
       "      <td>One year in the life of Albin and his family o...</td>\n",
       "    </tr>\n",
       "    <tr>\n",
       "      <th>3</th>\n",
       "      <td>4</td>\n",
       "      <td>Meu Amigo Hindu</td>\n",
       "      <td>2015</td>\n",
       "      <td>His father has died, he hasn't spoken with his...</td>\n",
       "    </tr>\n",
       "    <tr>\n",
       "      <th>4</th>\n",
       "      <td>5</td>\n",
       "      <td>Er nu zhai</td>\n",
       "      <td>1955</td>\n",
       "      <td>Before he was known internationally as a marti...</td>\n",
       "    </tr>\n",
       "  </tbody>\n",
       "</table>\n",
       "</div>"
      ],
      "text/plain": [
       "  ID                 Title  Year  \\\n",
       "0  1         Edgar's Lunch  1998   \n",
       "1  2     La guerra de papá  1977   \n",
       "2  3  Off the Beaten Track  2010   \n",
       "3  4       Meu Amigo Hindu  2015   \n",
       "4  5            Er nu zhai  1955   \n",
       "\n",
       "                                                Plot  \n",
       "0  L.R. Brane loves his life - his car, his apart...  \n",
       "1  Spain, March 1964: Quico is a very naughty chi...  \n",
       "2  One year in the life of Albin and his family o...  \n",
       "3  His father has died, he hasn't spoken with his...  \n",
       "4  Before he was known internationally as a marti...  "
      ]
     },
     "execution_count": 10,
     "metadata": {},
     "output_type": "execute_result"
    }
   ],
   "source": [
    "df_test.head()"
   ]
  },
  {
   "cell_type": "code",
   "execution_count": 11,
   "id": "7141bbff",
   "metadata": {},
   "outputs": [
    {
     "data": {
      "text/html": [
       "<div>\n",
       "<style scoped>\n",
       "    .dataframe tbody tr th:only-of-type {\n",
       "        vertical-align: middle;\n",
       "    }\n",
       "\n",
       "    .dataframe tbody tr th {\n",
       "        vertical-align: top;\n",
       "    }\n",
       "\n",
       "    .dataframe thead th {\n",
       "        text-align: right;\n",
       "    }\n",
       "</style>\n",
       "<table border=\"1\" class=\"dataframe\">\n",
       "  <thead>\n",
       "    <tr style=\"text-align: right;\">\n",
       "      <th></th>\n",
       "      <th>ID</th>\n",
       "      <th>Title</th>\n",
       "      <th>Year</th>\n",
       "      <th>Genre</th>\n",
       "      <th>Plot</th>\n",
       "    </tr>\n",
       "  </thead>\n",
       "  <tbody>\n",
       "    <tr>\n",
       "      <th>0</th>\n",
       "      <td>1</td>\n",
       "      <td>Edgar's Lunch</td>\n",
       "      <td>1998</td>\n",
       "      <td>thriller</td>\n",
       "      <td>L.R. Brane loves his life - his car, his apart...</td>\n",
       "    </tr>\n",
       "    <tr>\n",
       "      <th>1</th>\n",
       "      <td>2</td>\n",
       "      <td>La guerra de papá</td>\n",
       "      <td>1977</td>\n",
       "      <td>comedy</td>\n",
       "      <td>Spain, March 1964: Quico is a very naughty chi...</td>\n",
       "    </tr>\n",
       "    <tr>\n",
       "      <th>2</th>\n",
       "      <td>3</td>\n",
       "      <td>Off the Beaten Track</td>\n",
       "      <td>2010</td>\n",
       "      <td>documentary</td>\n",
       "      <td>One year in the life of Albin and his family o...</td>\n",
       "    </tr>\n",
       "    <tr>\n",
       "      <th>3</th>\n",
       "      <td>4</td>\n",
       "      <td>Meu Amigo Hindu</td>\n",
       "      <td>2015</td>\n",
       "      <td>drama</td>\n",
       "      <td>His father has died, he hasn't spoken with his...</td>\n",
       "    </tr>\n",
       "    <tr>\n",
       "      <th>4</th>\n",
       "      <td>5</td>\n",
       "      <td>Er nu zhai</td>\n",
       "      <td>1955</td>\n",
       "      <td>drama</td>\n",
       "      <td>Before he was known internationally as a marti...</td>\n",
       "    </tr>\n",
       "  </tbody>\n",
       "</table>\n",
       "</div>"
      ],
      "text/plain": [
       "  ID                 Title  Year        Genre  \\\n",
       "0  1         Edgar's Lunch  1998     thriller   \n",
       "1  2     La guerra de papá  1977       comedy   \n",
       "2  3  Off the Beaten Track  2010  documentary   \n",
       "3  4       Meu Amigo Hindu  2015        drama   \n",
       "4  5            Er nu zhai  1955        drama   \n",
       "\n",
       "                                                Plot  \n",
       "0  L.R. Brane loves his life - his car, his apart...  \n",
       "1  Spain, March 1964: Quico is a very naughty chi...  \n",
       "2  One year in the life of Albin and his family o...  \n",
       "3  His father has died, he hasn't spoken with his...  \n",
       "4  Before he was known internationally as a marti...  "
      ]
     },
     "execution_count": 11,
     "metadata": {},
     "output_type": "execute_result"
    }
   ],
   "source": [
    "df_test_solution.head()"
   ]
  },
  {
   "cell_type": "code",
   "execution_count": 12,
   "id": "988f17c7",
   "metadata": {},
   "outputs": [
    {
     "data": {
      "text/html": [
       "<div>\n",
       "<style scoped>\n",
       "    .dataframe tbody tr th:only-of-type {\n",
       "        vertical-align: middle;\n",
       "    }\n",
       "\n",
       "    .dataframe tbody tr th {\n",
       "        vertical-align: top;\n",
       "    }\n",
       "\n",
       "    .dataframe thead th {\n",
       "        text-align: right;\n",
       "    }\n",
       "</style>\n",
       "<table border=\"1\" class=\"dataframe\">\n",
       "  <thead>\n",
       "    <tr style=\"text-align: right;\">\n",
       "      <th></th>\n",
       "      <th>Train</th>\n",
       "      <th>Test</th>\n",
       "      <th>Test Sol</th>\n",
       "    </tr>\n",
       "  </thead>\n",
       "  <tbody>\n",
       "    <tr>\n",
       "      <th>Genre</th>\n",
       "      <td>0</td>\n",
       "      <td>NaN</td>\n",
       "      <td>0</td>\n",
       "    </tr>\n",
       "    <tr>\n",
       "      <th>ID</th>\n",
       "      <td>0</td>\n",
       "      <td>0.0</td>\n",
       "      <td>0</td>\n",
       "    </tr>\n",
       "    <tr>\n",
       "      <th>Plot</th>\n",
       "      <td>0</td>\n",
       "      <td>0.0</td>\n",
       "      <td>0</td>\n",
       "    </tr>\n",
       "    <tr>\n",
       "      <th>Title</th>\n",
       "      <td>0</td>\n",
       "      <td>0.0</td>\n",
       "      <td>0</td>\n",
       "    </tr>\n",
       "    <tr>\n",
       "      <th>Year</th>\n",
       "      <td>4347</td>\n",
       "      <td>4385.0</td>\n",
       "      <td>4385</td>\n",
       "    </tr>\n",
       "  </tbody>\n",
       "</table>\n",
       "</div>"
      ],
      "text/plain": [
       "       Train    Test  Test Sol\n",
       "Genre      0     NaN         0\n",
       "ID         0     0.0         0\n",
       "Plot       0     0.0         0\n",
       "Title      0     0.0         0\n",
       "Year    4347  4385.0      4385"
      ]
     },
     "execution_count": 12,
     "metadata": {},
     "output_type": "execute_result"
    }
   ],
   "source": [
    "# Looks better in a table so...\n",
    "pd.DataFrame({'Train' : df_train.isnull().sum(),'Test': df_test.isnull().sum(),'Test Sol': df_test_solution.isnull().sum()})"
   ]
  },
  {
   "cell_type": "markdown",
   "id": "118fe241",
   "metadata": {},
   "source": [
    "Years are missing, I don't think it is needed to predict genre, it can only tell us trends during time periods. And there would be rare cases where the plot might say something but the trend would be something else. So I will be dropping them during modelling"
   ]
  },
  {
   "cell_type": "markdown",
   "id": "9236d685",
   "metadata": {},
   "source": [
    "#### Saving the clean data and copying it before use"
   ]
  },
  {
   "cell_type": "code",
   "execution_count": 13,
   "id": "fde30298",
   "metadata": {},
   "outputs": [],
   "source": [
    "df_train.to_csv(\"train_genre.csv\", index = False)\n",
    "df_test.to_csv(\"test_genre.csv\", index = False)\n",
    "df_test_solution.to_csv(\"test_solution_genre.csv\", index = False)\n",
    "\n",
    "# Copying data\n",
    "# df_train_org = df_train -> does not create a copy, it creates a reference\n",
    "df_train_org = df_train.copy()\n",
    "df_test_org = df_test.copy()\n",
    "df_test_solution_org = df_test_solution.copy()"
   ]
  },
  {
   "cell_type": "markdown",
   "id": "aa7789f6",
   "metadata": {},
   "source": [
    "The data is ready, There are no numbers, so nothing to visualize for now, we start by processing the text"
   ]
  },
  {
   "cell_type": "markdown",
   "id": "1a916019",
   "metadata": {},
   "source": [
    "## 2. Text preprocessing"
   ]
  },
  {
   "cell_type": "markdown",
   "id": "9d2c4d86",
   "metadata": {},
   "source": [
    "After researching about things to be used in text processing, I can use nltk, spacy, textblob, etc. I'll stick to nltk for now, maybe experiment with spacy later"
   ]
  },
  {
   "cell_type": "markdown",
   "id": "8a925749",
   "metadata": {},
   "source": [
    "1. We clean the text, make it small, remove punctuations.\n",
    "2. Then we tokenize\n",
    "3. Then lemment it\n",
    "4. Then convert into text"
   ]
  },
  {
   "cell_type": "code",
   "execution_count": 14,
   "id": "8e4ba9f7",
   "metadata": {},
   "outputs": [],
   "source": [
    "# Installing stuff from nltk only once\n",
    "# import nltk\n",
    "# nltk.download('punkt')      # Tokenization\n",
    "# nltk.download('stopwords')  # Stopwords (in, for, the, etc.)\n",
    "# nltk.download('wordnet')    # Lemmatization dictionary\n",
    "# nltk.download('omw-1.4')    # Lemmatization\n",
    "# nltk.download('punkt_tab')"
   ]
  },
  {
   "cell_type": "code",
   "execution_count": 15,
   "id": "03995e1e",
   "metadata": {},
   "outputs": [],
   "source": [
    "# import nltk\n",
    "# import os\n",
    "\n",
    "# # Absolute path to your local nltk_data directory\n",
    "# nltk_path = os.path.abspath(\"nltk_data\")\n",
    "# nltk.data.path.append(nltk_path)\n",
    "\n",
    "# # Download required packages into this directory\n",
    "# nltk.download('punkt', download_dir=nltk_path)\n",
    "# nltk.download('stopwords', download_dir=nltk_path)\n",
    "# nltk.download('wordnet', download_dir=nltk_path)\n",
    "# nltk.download('omw-1.4', download_dir=nltk_path)\n"
   ]
  },
  {
   "cell_type": "code",
   "execution_count": 16,
   "id": "764e0772",
   "metadata": {},
   "outputs": [],
   "source": [
    "# Importing specific libraries\n",
    "from nltk.tokenize import word_tokenize\n",
    "from nltk.corpus import stopwords\n",
    "from nltk.stem import WordNetLemmatizer\n",
    "import string"
   ]
  },
  {
   "cell_type": "code",
   "execution_count": 17,
   "id": "d3779f8a",
   "metadata": {},
   "outputs": [],
   "source": [
    "# Preprocessing function for every text\n",
    "\n",
    "lemmat = WordNetLemmatizer()  # create lemmatizer\n",
    "def processing_text(text):\n",
    "    text = text.lower()  # lowercase\n",
    "    text = text.translate(str.maketrans(\"\", \"\", string.punctuation))  # remove punctuation using table, you can also use for loop, but this is faster\n",
    "    tokens = word_tokenize(text)  # tokenize\n",
    "    stop_words = set(stopwords.words('english'))  # get stopwords\n",
    "    tokens = [i for i in tokens if i not in stop_words]  # remove stopwords\n",
    "    tokens = [lemmat.lemmatize(i) for i in tokens]  # lemmatize\n",
    "    return \" \".join(tokens)  # convert back to text\n",
    "\n",
    "# We are doing this for TF-IDF, we can also use word2vec and BERT, but let's keep it simple for now"
   ]
  },
  {
   "cell_type": "markdown",
   "id": "d8d1aeec",
   "metadata": {},
   "source": [
    "The function is defined to process the text, now we apply this to the train and test data"
   ]
  },
  {
   "cell_type": "code",
   "execution_count": 18,
   "id": "8fb45ca0",
   "metadata": {},
   "outputs": [],
   "source": [
    "df_train[\"Processed_Plot\"] = df_train[\"Plot\"].apply(processing_text)\n",
    "df_test[\"Processed_Plot\"] = df_test[\"Plot\"].apply(processing_text)"
   ]
  },
  {
   "cell_type": "code",
   "execution_count": 19,
   "id": "ac6eaf82",
   "metadata": {},
   "outputs": [
    {
     "data": {
      "text/plain": [
       "'listening conversation doctor parent 10yearold oscar learns nobody courage tell week live furious refuse speak anyone except straighttalking rose lady pink meet hospital stair christmas approach rose us fantastical experience professional wrestler imagination wit charm allow oscar live life love full company friend pop corn einstein bacon childhood sweetheart peggy blue'"
      ]
     },
     "execution_count": 19,
     "metadata": {},
     "output_type": "execute_result"
    }
   ],
   "source": [
    "df_train['Processed_Plot'][0]"
   ]
  },
  {
   "cell_type": "markdown",
   "id": "8cee9c0c",
   "metadata": {},
   "source": [
    "Finally, got nltk to run and process the text in 2 days"
   ]
  },
  {
   "cell_type": "code",
   "execution_count": 20,
   "id": "ccdc5a53",
   "metadata": {},
   "outputs": [
    {
     "data": {
      "text/plain": [
       "0    listening conversation doctor parent 10yearold...\n",
       "1    brother sister past incestuous relationship cu...\n",
       "2    bus empty student field trip museum natural hi...\n",
       "3    help unemployed father make end meet edith twi...\n",
       "4    film title refers unrecovered body ground zero...\n",
       "Name: Processed_Plot, dtype: object"
      ]
     },
     "execution_count": 20,
     "metadata": {},
     "output_type": "execute_result"
    }
   ],
   "source": [
    "df_train['Processed_Plot'].head()"
   ]
  },
  {
   "cell_type": "markdown",
   "id": "21bafb8c",
   "metadata": {},
   "source": [
    "And now we turn this text into numbers, by using TF-IDF as stated in the internship task"
   ]
  },
  {
   "cell_type": "code",
   "execution_count": 36,
   "id": "ed6f1ae0",
   "metadata": {},
   "outputs": [],
   "source": [
    "from sklearn.feature_extraction.text import TfidfVectorizer\n",
    "\n",
    "tf_idf = TfidfVectorizer(max_df=0.9, min_df=3, sublinear_tf=True, norm='l2')  \n",
    "x_train = tf_idf.fit_transform(df_train['Processed_Plot'])\n",
    "x_test = tf_idf.transform(df_test['Processed_Plot']) "
   ]
  },
  {
   "cell_type": "code",
   "execution_count": 37,
   "id": "8cf182b6",
   "metadata": {},
   "outputs": [
    {
     "data": {
      "text/plain": [
       "((54214, 38906), (54200, 38906))"
      ]
     },
     "execution_count": 37,
     "metadata": {},
     "output_type": "execute_result"
    }
   ],
   "source": [
    "x_train.shape, x_test.shape"
   ]
  },
  {
   "cell_type": "code",
   "execution_count": 38,
   "id": "3382aaa9",
   "metadata": {},
   "outputs": [
    {
     "data": {
      "text/plain": [
       "<Compressed Sparse Row sparse matrix of dtype 'float64'\n",
       "\twith 2505526 stored elements and shape (54214, 38906)>"
      ]
     },
     "execution_count": 38,
     "metadata": {},
     "output_type": "execute_result"
    }
   ],
   "source": [
    "x_train "
   ]
  },
  {
   "cell_type": "code",
   "execution_count": 39,
   "id": "1a2ac319",
   "metadata": {},
   "outputs": [],
   "source": [
    "#Splitting data\n",
    "from sklearn.model_selection import train_test_split\n",
    "x = x_train\n",
    "y = df_train['Genre']\n",
    "\n",
    "x_train_model, x_test_model, y_train, y_test = train_test_split(x, y, test_size=0.2, random_state=42)\n",
    "\n"
   ]
  },
  {
   "cell_type": "code",
   "execution_count": 40,
   "id": "3038ef9c",
   "metadata": {},
   "outputs": [],
   "source": [
    "# Converting didn't do a lot, the score was same\n",
    "from sklearn.preprocessing import LabelEncoder\n",
    "encoder = LabelEncoder()\n",
    "y_train = encoder.fit_transform(y_train)\n",
    "y_test = encoder.transform(y_test) "
   ]
  },
  {
   "cell_type": "code",
   "execution_count": 41,
   "id": "252facee",
   "metadata": {},
   "outputs": [],
   "source": [
    "# from sklearn.decomposition import PCA\n",
    "# import matplotlib.pyplot as plt\n",
    "\n",
    "# # Convert sparse to dense\n",
    "# x_dense = x_train.toarray()\n",
    "\n",
    "# # Reduce to 2D\n",
    "# pca = PCA(n_components=2)\n",
    "# x_2d = pca.fit_transform(x_dense)\n",
    "\n",
    "# plt.scatter(x_2d[:, 0], x_2d[:, 1], c=y_train, cmap='rainbow')\n",
    "# plt.title(\"PCA projection of TF-IDF Vectors\")\n",
    "# plt.xlabel(\"PCA1\")\n",
    "# plt.ylabel(\"PCA2\")\n",
    "# plt.show()\n"
   ]
  },
  {
   "cell_type": "markdown",
   "id": "e41dc89c",
   "metadata": {},
   "source": [
    "Now that our data is ready, we import models to train, first we try the ones' mentioned in the task"
   ]
  },
  {
   "cell_type": "code",
   "execution_count": 42,
   "id": "76fbde5b",
   "metadata": {},
   "outputs": [],
   "source": [
    "#  Importing Logistic Regression, Naive Bayes and SVM\n",
    "from sklearn.linear_model import LogisticRegression\n",
    "from sklearn.naive_bayes import MultinomialNB\n",
    "from sklearn.svm import LinearSVC\n",
    "\n",
    "from sklearn.ensemble import RandomForestClassifier\n",
    "# from xgboost import XGBClassifier\n",
    "# from catboost import CatBoostClassifier\n",
    "# from sklearn.linear_model import RidgeClassifier\n",
    "# from sklearn.neighbors import KNeighborsClassifier"
   ]
  },
  {
   "cell_type": "code",
   "execution_count": 43,
   "id": "263c85f5",
   "metadata": {},
   "outputs": [],
   "source": [
    "# Training all and testing\n",
    "# models = {\n",
    "#     \"Logistic Regression\": LogisticRegression(max_iter=1000, class_weight='balanced',random_state=42),\n",
    "#     \"Naive Bayes\": MultinomialNB(),\n",
    "#     \"SVM\": LinearSVC(class_weight='balanced'),\n",
    "#     \"RF\": RandomForestClassifier(class_weight='balanced', n_estimators=100, random_state=42),\n",
    "#     \"XGBoost\": XGBClassifier(use_label_encoder=False, eval_metric='mlogloss', random_state=42),\n",
    "#     \"catboost\": CatBoostClassifier(verbose=0, random_state=42),\n",
    "#     \"Ridge\": RidgeClassifier(class_weight='balanced', random_state=42),\n",
    "#     \"KNN\": KNeighborsClassifier(n_neighbors=5)\n",
    "#     }\n",
    "\n",
    "# for name, model in models.items():\n",
    "#     model.fit(x_train_model, y_train)\n",
    "#     score = model.score(x_test_model, y_test)\n",
    "#     print(f\"{name}: {score}\")"
   ]
  },
  {
   "cell_type": "markdown",
   "id": "cff7d726",
   "metadata": {},
   "source": [
    "I'll be doing some data analysis, let's see what we can do better and then we go to model and tuning models"
   ]
  },
  {
   "cell_type": "code",
   "execution_count": 44,
   "id": "c5d037f5",
   "metadata": {},
   "outputs": [
    {
     "data": {
      "text/plain": [
       "0.5024439730701835"
      ]
     },
     "execution_count": 44,
     "metadata": {},
     "output_type": "execute_result"
    }
   ],
   "source": [
    "lgr = LogisticRegression(max_iter=1000, class_weight='balanced', random_state=42)\n",
    "lgr.fit(x_train_model, y_train)\n",
    "score = lgr.score(x_test_model, y_test)\n",
    "score"
   ]
  },
  {
   "cell_type": "code",
   "execution_count": 45,
   "id": "43cf155f",
   "metadata": {},
   "outputs": [
    {
     "data": {
      "text/plain": [
       "Genre\n",
       "drama          13613\n",
       "documentary    13096\n",
       "comedy          7447\n",
       "short           5073\n",
       "horror          2204\n",
       "thriller        1591\n",
       "action          1315\n",
       "western         1032\n",
       "reality-tv       884\n",
       "family           784\n",
       "adventure        775\n",
       "music            731\n",
       "romance          672\n",
       "sci-fi           647\n",
       "adult            590\n",
       "crime            505\n",
       "animation        498\n",
       "sport            432\n",
       "talk-show        391\n",
       "fantasy          323\n",
       "mystery          319\n",
       "musical          277\n",
       "biography        265\n",
       "history          243\n",
       "game-show        194\n",
       "news             181\n",
       "war              132\n",
       "Name: count, dtype: int64"
      ]
     },
     "execution_count": 45,
     "metadata": {},
     "output_type": "execute_result"
    }
   ],
   "source": [
    "df_train['Genre'].value_counts()"
   ]
  },
  {
   "cell_type": "code",
   "execution_count": 46,
   "id": "7dd88f11",
   "metadata": {},
   "outputs": [],
   "source": [
    "y_preds = lgr.predict(x_test_model)\n"
   ]
  },
  {
   "cell_type": "code",
   "execution_count": 47,
   "id": "cb951434",
   "metadata": {},
   "outputs": [
    {
     "data": {
      "image/png": "[encoded data removed]",
      "text/plain": [
       "<Figure size 1600x1400 with 2 Axes>"
      ]
     },
     "metadata": {},
     "output_type": "display_data"
    }
   ],
   "source": [
    "from sklearn.metrics import confusion_matrix, ConfusionMatrixDisplay\n",
    "\n",
    "cm = confusion_matrix(y_test, y_preds)\n",
    "disp = ConfusionMatrixDisplay(cm)\n",
    "\n",
    "fig, ax = plt.subplots(figsize=(16, 14))\n",
    "disp.plot(ax=ax)\n",
    "plt.title(\"Confusion Matrix\")\n",
    "plt.show()"
   ]
  },
  {
   "cell_type": "code",
   "execution_count": 48,
   "id": "198a81cb",
   "metadata": {},
   "outputs": [
    {
     "name": "stdout",
     "output_type": "stream",
     "text": [
      "              precision    recall  f1-score   support\n",
      "\n",
      "      action       0.32      0.46      0.38       263\n",
      "       adult       0.35      0.67      0.46       112\n",
      "   adventure       0.20      0.35      0.25       139\n",
      "   animation       0.23      0.28      0.25       104\n",
      "   biography       0.08      0.11      0.09        61\n",
      "      comedy       0.60      0.51      0.55      1443\n",
      "       crime       0.15      0.33      0.20       107\n",
      " documentary       0.80      0.61      0.69      2659\n",
      "       drama       0.72      0.42      0.53      2697\n",
      "      family       0.14      0.31      0.20       150\n",
      "     fantasy       0.17      0.19      0.18        74\n",
      "   game-show       0.76      0.70      0.73        40\n",
      "     history       0.07      0.20      0.10        45\n",
      "      horror       0.57      0.72      0.64       431\n",
      "       music       0.37      0.82      0.51       144\n",
      "     musical       0.14      0.24      0.18        50\n",
      "     mystery       0.12      0.21      0.15        56\n",
      "        news       0.16      0.21      0.18        34\n",
      "  reality-tv       0.37      0.61      0.46       192\n",
      "     romance       0.13      0.41      0.20       151\n",
      "      sci-fi       0.31      0.53      0.39       143\n",
      "       short       0.44      0.42      0.43      1045\n",
      "       sport       0.36      0.83      0.50        93\n",
      "   talk-show       0.27      0.48      0.34        81\n",
      "    thriller       0.27      0.37      0.31       309\n",
      "         war       0.14      0.45      0.21        20\n",
      "     western       0.77      0.89      0.82       200\n",
      "\n",
      "    accuracy                           0.50     10843\n",
      "   macro avg       0.33      0.46      0.37     10843\n",
      "weighted avg       0.59      0.50      0.53     10843\n",
      "\n"
     ]
    }
   ],
   "source": [
    "# Classification report\n",
    "from sklearn.metrics import classification_report\n",
    "\n",
    "print(classification_report(y_test, y_preds, target_names=encoder.classes_))"
   ]
  },
  {
   "cell_type": "code",
   "execution_count": 49,
   "id": "ea3bd76a",
   "metadata": {},
   "outputs": [
    {
     "name": "stdout",
     "output_type": "stream",
     "text": [
      "F1 Macro: 0.36836597792194153\n",
      "F1 Weighted: 0.525937024173227\n"
     ]
    }
   ],
   "source": [
    "# Getting F1 score\n",
    "from sklearn.metrics import f1_score\n",
    "\n",
    "f1_macro = f1_score(y_test, y_preds, average='macro')\n",
    "f1_weighted = f1_score(y_test, y_preds, average='weighted')\n",
    "\n",
    "print(\"F1 Macro:\", f1_macro)\n",
    "print(\"F1 Weighted:\", f1_weighted)\n"
   ]
  },
  {
   "cell_type": "code",
   "execution_count": null,
   "id": "f765e4d0",
   "metadata": {},
   "outputs": [],
   "source": []
  }
 ],
 "metadata": {
  "kernelspec": {
   "display_name": "Python 3",
   "language": "python",
   "name": "python3"
  },
  "language_info": {
   "codemirror_mode": {
    "name": "ipython",
    "version": 3
   },
   "file_extension": ".py",
   "mimetype": "text/x-python",
   "name": "python",
   "nbconvert_exporter": "python",
   "pygments_lexer": "ipython3",
   "version": "3.13.5"
  }
 },
 "nbformat": 4,
 "nbformat_minor": 5
}
